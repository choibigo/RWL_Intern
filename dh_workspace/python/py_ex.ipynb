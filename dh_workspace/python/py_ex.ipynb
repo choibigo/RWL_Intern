{
 "cells": [
  {
   "cell_type": "code",
   "execution_count": 6,
   "metadata": {},
   "outputs": [
    {
     "name": "stdout",
     "output_type": "stream",
     "text": [
      "233168\n"
     ]
    }
   ],
   "source": [
    "\"\"\"\n",
    "10 미만의 자연수에서 3과 5의 배수를 구하면 3, 5, 6, 9이다. 이들의 총합은 23이다.\n",
    "1,000 미만의 자연수에서 3의 배수와 5의 배수의 총합을 구하라.\n",
    "입력받는 값은? 1부터 999까지(1000 미만의 자연수)\n",
    "출력하는 값은? 3의 배수와 5의 배수의 총합\n",
    "생각해 볼 것은?\n",
    "3의 배수와 5의 배수는 어떻게 찾지?\n",
    "3의 배수와 5의 배수가 겹칠 때는 어떻게 하지?\n",
    "이 문제를 풀기 위한 중요 포인트는 2가지다. \n",
    "1가지는 1,000 미만의 자연수를 구하는 방법이고 또 다른 1가지는 3과 5의 배수를 구하는 것이다. \n",
    "이 2가지만 해결되면 문제는 쉽게 해결될 것으로 보인다.\n",
    "\"\"\"\n",
    "\n",
    "sum=0\n",
    "i=1\n",
    "while i<1000:\n",
    "    if i%3==0 or i%5==0:\n",
    "        sum+=i\n",
    "    else: pass\n",
    "    i+=1\n",
    "print(sum)"
   ]
  },
  {
   "cell_type": "code",
   "execution_count": 1,
   "metadata": {},
   "outputs": [],
   "source": [
    "#memo.py\n",
    "\n",
    "#필요한 기능은? 메모 추가하기, 메모 조회하기\n",
    "#입력받는 값은? 메모 내용, 프로그램 실행 옵션\n",
    "#출력하는 값은? memo.txt\n",
    "#가장 먼저 해야 할 일은 메모를 추가하는 것이다. 다음 명령을 실행했을 때 메모를 추가할 수 있도록 만들어 보자.\n",
    "\n",
    "#python memo.py -a \"Life is too short\"          : -a일 때는 적는다.\n",
    "#python memo.py -v                              : -v일 때는 읽는다.\n",
    "\n",
    "import sys\n",
    "\n",
    "option=sys.argv[1]\n",
    "\n",
    "if option=='-a':\n",
    "    memo=sys.argv[2]\n",
    "    f=open('mytxt','a')\n",
    "    f.write(memo)\n",
    "    f.write('\\n')\n",
    "    f.close()\n",
    "\n",
    "elif option=='-v':\n",
    "    f=open('mytxt','r')\n",
    "    memo=f.read()\n",
    "    f.close()\n",
    "    print(memo)"
   ]
  },
  {
   "cell_type": "code",
   "execution_count": null,
   "metadata": {},
   "outputs": [],
   "source": []
  }
 ],
 "metadata": {
  "kernelspec": {
   "display_name": "base",
   "language": "python",
   "name": "python3"
  },
  "language_info": {
   "codemirror_mode": {
    "name": "ipython",
    "version": 3
   },
   "file_extension": ".py",
   "mimetype": "text/x-python",
   "name": "python",
   "nbconvert_exporter": "python",
   "pygments_lexer": "ipython3",
   "version": "3.12.7"
  }
 },
 "nbformat": 4,
 "nbformat_minor": 2
}
