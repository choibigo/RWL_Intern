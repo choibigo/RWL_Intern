{
 "cells": [
  {
   "cell_type": "code",
   "execution_count": 2,
   "metadata": {},
   "outputs": [
    {
     "name": "stdout",
     "output_type": "stream",
     "text": [
      "7\n",
      "2\n"
     ]
    }
   ],
   "source": [
    "#  C:\\git_experiment\\RWL_Intern\\python 폴더에 mod1.py이라는 파일을 만들었음.\n",
    "# 이 mod1.py 파일이 바로 모듈이다.\n",
    "# (파이썬 확장자 .py로 만든 파이썬 파일은 모두 모듈이다.)\n",
    "\n",
    "# 우리가 만든 mod1.py 파일, 즉 모듈을 파이썬에서 불러와 사용하려면 어떻게 해야 할까?\n",
    "# 반드시 mod1.py 파일을 저장한 C:\\doit 디렉터리로 이동한 후 예제를 진행해야 한다. 그래야만 대화형 인터프리터에서 mod1.py 모듈을 읽을 수 있다.\n",
    "import mod1\n",
    "\n",
    "print(mod1.add(3,4))\n",
    "\n",
    "print(mod1.sub(4,2))"
   ]
  },
  {
   "cell_type": "markdown",
   "metadata": {},
   "source": [
    "mod1.py 모듈을 불러오기 위해 import mod1이라고 입력했다. \n",
    "\n",
    "실수로 import mod1.py라고 입력하지 않도록 주의하자. \n",
    "\n",
    "import는 이미 만들어 놓은 파이썬 모듈을 사용할 수 있게 해 주는 명령어이다. \n",
    "\n",
    "mod1. py 파일에 있는 add 함수를 사용하기 위해서는 mod1.add처럼 모듈 이름 뒤에 도트 연산자(.)를 붙이고 함수 이름을 쓰면 된다.\n",
    "\n",
    "* import는 현재 디렉터리에 있는 파일이나 파이썬 라이브러리가 저장된 디렉터리에 있는 모듈만 불러올 수 있다.\n",
    "* 파이썬 라이브러리는 파이썬을 설치할 때 자동으로 설치되는 파이썬 모듈을 말한다.\n"
   ]
  },
  {
   "cell_type": "markdown",
   "metadata": {},
   "source": [
    "import 사용방법은 다음과 같다.\n",
    "\n",
    "> import 모듈_이름"
   ]
  },
  {
   "cell_type": "markdown",
   "metadata": {},
   "source": [
    "때로는 mod1.add, mod1.sub처럼 쓰지 않고 add, sub처럼 모듈 이름 없이 함수 이름만 쓰고 싶은 경우도 있을 것이다. 이럴 때는 다음과 같이 사용하면 된다.\n",
    "\n",
    "> from 모듈_이름 import 모듈_함수\n",
    "\n",
    "위와 같이 함수를 직접 import하면 모듈 이름을 붙이지 않고 바로 해당 모듈의 함수를 쓸 수 있다."
   ]
  },
  {
   "cell_type": "code",
   "execution_count": 3,
   "metadata": {},
   "outputs": [
    {
     "data": {
      "text/plain": [
       "7"
      ]
     },
     "execution_count": 3,
     "metadata": {},
     "output_type": "execute_result"
    }
   ],
   "source": [
    "from mod1 import add                    #이건 오직 add만 사용 가능.\n",
    "add(3,4)                "
   ]
  },
  {
   "cell_type": "code",
   "execution_count": 5,
   "metadata": {},
   "outputs": [
    {
     "name": "stdout",
     "output_type": "stream",
     "text": [
      "5\n",
      "-2\n"
     ]
    }
   ],
   "source": [
    "# add와 sub 두 개 함수 모두 mod1이라는 이름 없이 사용하려면\n",
    "from mod1 import add, sub\n",
    "print(add(2,3))\n",
    "print(sub(1,3))"
   ]
  },
  {
   "cell_type": "code",
   "execution_count": 6,
   "metadata": {},
   "outputs": [],
   "source": [
    "# 또는 \n",
    "from mod1 import *                  #* 문자는 ‘모든 것’이라는 뜻. mod1의 모든 함수를 사용하겠다는 뜻이다.\n",
    "\n"
   ]
  },
  {
   "cell_type": "code",
   "execution_count": null,
   "metadata": {},
   "outputs": [],
   "source": []
  }
 ],
 "metadata": {
  "kernelspec": {
   "display_name": "base",
   "language": "python",
   "name": "python3"
  },
  "language_info": {
   "codemirror_mode": {
    "name": "ipython",
    "version": 3
   },
   "file_extension": ".py",
   "mimetype": "text/x-python",
   "name": "python",
   "nbconvert_exporter": "python",
   "pygments_lexer": "ipython3",
   "version": "3.12.7"
  }
 },
 "nbformat": 4,
 "nbformat_minor": 2
}
